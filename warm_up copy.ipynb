{
 "cells": [
  {
   "cell_type": "code",
   "execution_count": 12,
   "metadata": {},
   "outputs": [
    {
     "name": "stdout",
     "output_type": "stream",
     "text": [
      "3\n",
      "Folf nb: 0\n",
      "train size: 6 test size: 4\n",
      "Folf nb: 1\n",
      "train size: 7 test size: 3\n",
      "Folf nb: 2\n",
      "train size: 7 test size: 3\n",
      "['class_0' 'class_1' 'class_2']\n"
     ]
    }
   ],
   "source": [
    "#cross_valid\n",
    "import numpy as np\n",
    "from sklearn.model_selection import KFold\n",
    "from sklearn.datasets import load_wine\n",
    "from sklearn.model_selection import StratifiedShuffleSplit\n",
    "\n",
    "data = load_wine()\n",
    "data.target[[0,10,1]]\n",
    "data = data.target_names\n",
    "\n",
    "splits = 3\n",
    "kf=KFold(n_splits=splits)\n",
    "x = np.arange(0,10, 1)\n",
    "\n",
    "print(len(x)//splits)\n",
    "\n",
    "for fold_nb, (train_index, test_index) in enumerate(kf.split(x)):\n",
    "    print('Folf nb:', fold_nb)\n",
    "    print('train size:', len(train_index), 'test size:', len(test_index))\n",
    "\n",
    "print(data)"
   ]
  }
 ],
 "metadata": {
  "interpreter": {
   "hash": "25f63607c7cced485aee662d0e1d51ce0b9ac21fd6989fe2cc02ce3dca4f5539"
  },
  "kernelspec": {
   "display_name": "Python 3.8.5 ('base')",
   "language": "python",
   "name": "python3"
  },
  "language_info": {
   "codemirror_mode": {
    "name": "ipython",
    "version": 3
   },
   "file_extension": ".py",
   "mimetype": "text/x-python",
   "name": "python",
   "nbconvert_exporter": "python",
   "pygments_lexer": "ipython3",
   "version": "3.8.5"
  },
  "orig_nbformat": 4
 },
 "nbformat": 4,
 "nbformat_minor": 2
}
